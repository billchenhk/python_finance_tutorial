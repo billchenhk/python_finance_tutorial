{
 "cells": [
  {
   "cell_type": "code",
   "execution_count": 1,
   "metadata": {},
   "outputs": [],
   "source": [
    "import pandas as pd\n",
    "import matplotlib.pyplot as plt\n",
    "%matplotlib inline"
   ]
  },
  {
   "cell_type": "code",
   "execution_count": 2,
   "metadata": {},
   "outputs": [
    {
     "data": {
      "text/html": [
       "<div>\n",
       "<style scoped>\n",
       "    .dataframe tbody tr th:only-of-type {\n",
       "        vertical-align: middle;\n",
       "    }\n",
       "\n",
       "    .dataframe tbody tr th {\n",
       "        vertical-align: top;\n",
       "    }\n",
       "\n",
       "    .dataframe thead th {\n",
       "        text-align: right;\n",
       "    }\n",
       "</style>\n",
       "<table border=\"1\" class=\"dataframe\">\n",
       "  <thead>\n",
       "    <tr style=\"text-align: right;\">\n",
       "      <th></th>\n",
       "      <th>G_pct</th>\n",
       "      <th>M_pct</th>\n",
       "    </tr>\n",
       "    <tr>\n",
       "      <th>Date</th>\n",
       "      <th></th>\n",
       "      <th></th>\n",
       "    </tr>\n",
       "  </thead>\n",
       "  <tbody>\n",
       "    <tr>\n",
       "      <th>2018-12-04</th>\n",
       "      <td>0.051849</td>\n",
       "      <td>0.040939</td>\n",
       "    </tr>\n",
       "    <tr>\n",
       "      <th>2018-12-06</th>\n",
       "      <td>0.039223</td>\n",
       "      <td>0.040381</td>\n",
       "    </tr>\n",
       "    <tr>\n",
       "      <th>2018-12-07</th>\n",
       "      <td>0.045464</td>\n",
       "      <td>0.049377</td>\n",
       "    </tr>\n",
       "    <tr>\n",
       "      <th>2018-12-10</th>\n",
       "      <td>0.024587</td>\n",
       "      <td>0.039369</td>\n",
       "    </tr>\n",
       "    <tr>\n",
       "      <th>2018-12-11</th>\n",
       "      <td>0.019965</td>\n",
       "      <td>0.032669</td>\n",
       "    </tr>\n",
       "  </tbody>\n",
       "</table>\n",
       "</div>"
      ],
      "text/plain": [
       "               G_pct     M_pct\n",
       "Date                          \n",
       "2018-12-04  0.051849  0.040939\n",
       "2018-12-06  0.039223  0.040381\n",
       "2018-12-07  0.045464  0.049377\n",
       "2018-12-10  0.024587  0.039369\n",
       "2018-12-11  0.019965  0.032669"
      ]
     },
     "execution_count": 2,
     "metadata": {},
     "output_type": "execute_result"
    }
   ],
   "source": [
    "GOOG=pd.read_csv('GOOG.csv')\n",
    "MSFT=pd.read_csv('MSFT.csv')\n",
    "GOOG.set_index(pd.to_datetime(GOOG['Date'],format='%Y-%m-%d'),inplace=True)\n",
    "MSFT.set_index(pd.to_datetime(MSFT['Date'],format='%Y-%m-%d'),inplace=True)\n",
    "# GOOG['G_pct']=(GOOG['High']-GOOG['Low'])\n",
    "# MSFT['M_pct']=(MSFT['High']-MSFT['Low'])\n",
    "GOOG['G_pct']=(GOOG['High']-GOOG['Low'])/GOOG['Low']\n",
    "MSFT['M_pct']=(MSFT['High']-MSFT['Low'])/MSFT['Low']\n",
    "df=pd.merge(GOOG,MSFT,left_index=True,right_index=True,how='inner')\n",
    "df=df[['G_pct','M_pct']]\n",
    "df.tail()\n"
   ]
  },
  {
   "cell_type": "code",
   "execution_count": 3,
   "metadata": {},
   "outputs": [
    {
     "data": {
      "text/html": [
       "<div>\n",
       "<style scoped>\n",
       "    .dataframe tbody tr th:only-of-type {\n",
       "        vertical-align: middle;\n",
       "    }\n",
       "\n",
       "    .dataframe tbody tr th {\n",
       "        vertical-align: top;\n",
       "    }\n",
       "\n",
       "    .dataframe thead th {\n",
       "        text-align: right;\n",
       "    }\n",
       "</style>\n",
       "<table border=\"1\" class=\"dataframe\">\n",
       "  <thead>\n",
       "    <tr style=\"text-align: right;\">\n",
       "      <th></th>\n",
       "      <th>Date</th>\n",
       "      <th>Open</th>\n",
       "      <th>High</th>\n",
       "      <th>Low</th>\n",
       "      <th>Close</th>\n",
       "      <th>Adj Close</th>\n",
       "      <th>Volume</th>\n",
       "      <th>G_pct</th>\n",
       "    </tr>\n",
       "    <tr>\n",
       "      <th>Date</th>\n",
       "      <th></th>\n",
       "      <th></th>\n",
       "      <th></th>\n",
       "      <th></th>\n",
       "      <th></th>\n",
       "      <th></th>\n",
       "      <th></th>\n",
       "      <th></th>\n",
       "    </tr>\n",
       "  </thead>\n",
       "  <tbody>\n",
       "    <tr>\n",
       "      <th>2013-12-12</th>\n",
       "      <td>2013-12-12</td>\n",
       "      <td>536.296875</td>\n",
       "      <td>537.971008</td>\n",
       "      <td>531.046082</td>\n",
       "      <td>531.522949</td>\n",
       "      <td>531.522949</td>\n",
       "      <td>3213600</td>\n",
       "      <td>0.013040</td>\n",
       "    </tr>\n",
       "    <tr>\n",
       "      <th>2013-12-13</th>\n",
       "      <td>2013-12-13</td>\n",
       "      <td>534.225403</td>\n",
       "      <td>534.667480</td>\n",
       "      <td>525.526978</td>\n",
       "      <td>526.967590</td>\n",
       "      <td>526.967590</td>\n",
       "      <td>4352800</td>\n",
       "      <td>0.017393</td>\n",
       "    </tr>\n",
       "    <tr>\n",
       "      <th>2013-12-16</th>\n",
       "      <td>2013-12-16</td>\n",
       "      <td>528.562195</td>\n",
       "      <td>533.872681</td>\n",
       "      <td>527.573669</td>\n",
       "      <td>533.023193</td>\n",
       "      <td>533.023193</td>\n",
       "      <td>3224800</td>\n",
       "      <td>0.011940</td>\n",
       "    </tr>\n",
       "    <tr>\n",
       "      <th>2013-12-17</th>\n",
       "      <td>2013-12-17</td>\n",
       "      <td>532.943726</td>\n",
       "      <td>536.888062</td>\n",
       "      <td>530.738037</td>\n",
       "      <td>531.473267</td>\n",
       "      <td>531.473267</td>\n",
       "      <td>3091300</td>\n",
       "      <td>0.011588</td>\n",
       "    </tr>\n",
       "    <tr>\n",
       "      <th>2013-12-18</th>\n",
       "      <td>2013-12-18</td>\n",
       "      <td>532.461853</td>\n",
       "      <td>538.969543</td>\n",
       "      <td>526.098267</td>\n",
       "      <td>538.870178</td>\n",
       "      <td>538.870178</td>\n",
       "      <td>4449300</td>\n",
       "      <td>0.024466</td>\n",
       "    </tr>\n",
       "  </tbody>\n",
       "</table>\n",
       "</div>"
      ],
      "text/plain": [
       "                  Date        Open        High         Low       Close  \\\n",
       "Date                                                                     \n",
       "2013-12-12  2013-12-12  536.296875  537.971008  531.046082  531.522949   \n",
       "2013-12-13  2013-12-13  534.225403  534.667480  525.526978  526.967590   \n",
       "2013-12-16  2013-12-16  528.562195  533.872681  527.573669  533.023193   \n",
       "2013-12-17  2013-12-17  532.943726  536.888062  530.738037  531.473267   \n",
       "2013-12-18  2013-12-18  532.461853  538.969543  526.098267  538.870178   \n",
       "\n",
       "             Adj Close   Volume     G_pct  \n",
       "Date                                       \n",
       "2013-12-12  531.522949  3213600  0.013040  \n",
       "2013-12-13  526.967590  4352800  0.017393  \n",
       "2013-12-16  533.023193  3224800  0.011940  \n",
       "2013-12-17  531.473267  3091300  0.011588  \n",
       "2013-12-18  538.870178  4449300  0.024466  "
      ]
     },
     "execution_count": 3,
     "metadata": {},
     "output_type": "execute_result"
    }
   ],
   "source": [
    "GOOG.head()"
   ]
  },
  {
   "cell_type": "code",
   "execution_count": 4,
   "metadata": {},
   "outputs": [
    {
     "data": {
      "text/plain": [
       "array([[<AxesSubplot:title={'center':'G_pct'}>,\n",
       "        <AxesSubplot:title={'center':'M_pct'}>]], dtype=object)"
      ]
     },
     "execution_count": 4,
     "metadata": {},
     "output_type": "execute_result"
    },
    {
     "data": {
      "image/png": "[encoded data removed]",
      "text/plain": [
       "<Figure size 432x288 with 2 Axes>"
      ]
     },
     "metadata": {
      "needs_background": "light"
     },
     "output_type": "display_data"
    }
   ],
   "source": [
    "df.hist()"
   ]
  },
  {
   "cell_type": "code",
   "execution_count": 5,
   "metadata": {},
   "outputs": [
    {
     "data": {
      "image/png": "[encoded data removed]",
      "text/plain": [
       "<Figure size 432x288 with 1 Axes>"
      ]
     },
     "metadata": {
      "needs_background": "light"
     },
     "output_type": "display_data"
    }
   ],
   "source": [
    "df['G_pct'].hist(bins=20,density=True,color='skyblue',label='GOOG',alpha=0.5)\n",
    "df['M_pct'].hist(bins=20,density=True,color='pink',label='MSFT',alpha=0.5)\n",
    "plt.legend()\n",
    "plt.show()"
   ]
  },
  {
   "cell_type": "code",
   "execution_count": 6,
   "metadata": {},
   "outputs": [
    {
     "data": {
      "text/plain": [
       "<matplotlib.axes._subplots.AxesSubplot at 0x1e345235eb8>"
      ]
     },
     "execution_count": 6,
     "metadata": {},
     "output_type": "execute_result"
    },
    {
     "data": {
      "image/png": "[encoded data removed]",
      "text/plain": [
       "<Figure size 432x288 with 1 Axes>"
      ]
     },
     "metadata": {
      "needs_background": "light"
     },
     "output_type": "display_data"
    }
   ],
   "source": [
    "df['G_pct'].hist(bins=20,density=True,range=(0,0.03),color='skyblue',cumulative=True,orientation='horizontal')"
   ]
  },
  {
   "cell_type": "code",
   "execution_count": null,
   "metadata": {},
   "outputs": [],
   "source": []
  }
 ],
 "metadata": {
  "kernelspec": {
   "display_name": "Python 3",
   "language": "python",
   "name": "python3"
  },
  "language_info": {
   "codemirror_mode": {
    "name": "ipython",
    "version": 3
   },
   "file_extension": ".py",
   "mimetype": "text/x-python",
   "name": "python",
   "nbconvert_exporter": "python",
   "pygments_lexer": "ipython3",
   "version": "3.8.8"
  }
 },
 "nbformat": 4,
 "nbformat_minor": 2
}
